{
 "cells": [
  {
   "cell_type": "code",
   "execution_count": null,
   "id": "b8624ad5",
   "metadata": {},
   "outputs": [],
   "source": [
    "import os\n",
    "import json\n",
    "import pandas as pd"
   ]
  },
  {
   "cell_type": "code",
   "execution_count": null,
   "id": "1eb7fb2d",
   "metadata": {},
   "outputs": [],
   "source": [
    "base_dir = \"./data\""
   ]
  },
  {
   "cell_type": "code",
   "execution_count": null,
   "id": "b9b0c1a7",
   "metadata": {},
   "outputs": [],
   "source": [
    "# read csv\n",
    "data_csv = pd.read_csv('./data/data_v2.csv')\n",
    "\n",
    "# image list\n",
    "img_list = data_csv['img_path']\n",
    "print(len(img_list))\n",
    "\n",
    "# json list\n",
    "json_list = data_csv['json_path']\n",
    "print(len(json_list))"
   ]
  },
  {
   "cell_type": "code",
   "execution_count": null,
   "id": "9d1a4542",
   "metadata": {},
   "outputs": [],
   "source": [
    "# labels\n",
    "label_list = os.listdir('./data/json')\n",
    "print(\"classes num :\", len(label_list))\n",
    "print(label_list)"
   ]
  },
  {
   "cell_type": "code",
   "execution_count": null,
   "id": "0c3c14f8",
   "metadata": {},
   "outputs": [],
   "source": [
    "ingredient_list = []\n",
    "\n",
    "# read jsons\n",
    "for json_path in json_list:\n",
    "    with open(json_path, 'rt', encoding='utf-8-sig') as json_file:\n",
    "        data = json.load(json_file)\n",
    "    \n",
    "    # ingredient list\n",
    "    for ingredient in data['ingredients']:\n",
    "        if ingredient not in ingredient_list:\n",
    "            ingredient_list.append(ingredient)"
   ]
  },
  {
   "cell_type": "code",
   "execution_count": null,
   "id": "13fca255",
   "metadata": {},
   "outputs": [],
   "source": [
    "# ingredients\n",
    "print(\"ingredients num :\", len(ingredient_list))\n",
    "print(ingredient_list)"
   ]
  },
  {
   "cell_type": "code",
   "execution_count": null,
   "id": "00080bae",
   "metadata": {},
   "outputs": [],
   "source": [
    "# label counts\n",
    "label_counts = dict()\n",
    "\n",
    "for label in label_list:\n",
    "    label_counts[label] = 0\n",
    "\n",
    "# ingredient counts\n",
    "ingredient_counts = dict()\n",
    "for ingredient in ingredient_list:\n",
    "    ingredient_counts[ingredient['ingredient']] = 0\n",
    "\n",
    "# ingredients in label \n",
    "ingredients_in_label = dict()\n",
    "for label in label_list:\n",
    "    ingredients_in_label[label] = []\n",
    "\n",
    "data_num = 0\n",
    "ingredients_in_one = []\n",
    "\n",
    "# read jsons\n",
    "for json_path in json_list:\n",
    "    with open(json_path, 'rt', encoding='utf-8-sig') as json_file:\n",
    "        data = json.load(json_file)\n",
    "\n",
    "    data_num += 1\n",
    "    ingredients_in_one.append(len(data['ingredients']))\n",
    "\n",
    "    # label counts\n",
    "    for label in data['food_class']:\n",
    "        label_counts[label] += 1\n",
    "\n",
    "    # ingredient counts\n",
    "    for ingredient in data['ingredients']:\n",
    "        ingredient_counts[ingredient['ingredient']] += 1\n",
    "\n",
    "        # ingredients in label\n",
    "        for label in data['food_class']:\n",
    "            ingredients_in_label[label].append(ingredient)"
   ]
  },
  {
   "cell_type": "code",
   "execution_count": null,
   "id": "97e9573f",
   "metadata": {},
   "outputs": [],
   "source": [
    "# classes\n",
    "print(\"data num per class\")\n",
    "for label in label_counts.keys():\n",
    "    print(f\"{label} : {label_counts[label]}\")"
   ]
  },
  {
   "cell_type": "code",
   "execution_count": null,
   "id": "6a475342",
   "metadata": {},
   "outputs": [],
   "source": [
    "# sorted\n",
    "{k: v for k, v in sorted(label_counts.items(), key=lambda item: item[1], reverse=True)}"
   ]
  },
  {
   "cell_type": "code",
   "execution_count": null,
   "id": "304c5891",
   "metadata": {},
   "outputs": [],
   "source": [
    "# ingredients\n",
    "print(\"data num per ingredients\")\n",
    "for ingredient in ingredient_counts.keys():\n",
    "    print(f\"{ingredient} : {ingredient_counts[ingredient]}\")"
   ]
  },
  {
   "cell_type": "code",
   "execution_count": null,
   "id": "45be5a71",
   "metadata": {},
   "outputs": [],
   "source": [
    "{k: v for k, v in sorted(ingredient_counts.items(), key=lambda item: item[1], reverse=True)}"
   ]
  },
  {
   "cell_type": "code",
   "execution_count": null,
   "id": "82b4a578",
   "metadata": {},
   "outputs": [],
   "source": [
    "# data counts\n",
    "print(\"data num :\", data_num)\n",
    "\n",
    "print(\"total ingredient counts :\", sum(ingredient_counts.values()))\n",
    "print(\"average ingredient counts :\", sum(ingredient_counts.values()) / data_num)"
   ]
  },
  {
   "cell_type": "code",
   "execution_count": null,
   "id": "12a30ae6",
   "metadata": {},
   "outputs": [],
   "source": [
    "import pandas as pd"
   ]
  },
  {
   "cell_type": "code",
   "execution_count": null,
   "id": "d01eb910",
   "metadata": {
    "scrolled": true
   },
   "outputs": [],
   "source": [
    "# 이미지당 재료 개수 분포\n",
    "ingrd_num_df = pd.DataFrame(ingredients_in_one)\n",
    "num_counts = ingrd_num_df.value_counts().sort_index()\n",
    "print(num_counts)"
   ]
  },
  {
   "cell_type": "code",
   "execution_count": null,
   "id": "978c14d8",
   "metadata": {},
   "outputs": [],
   "source": [
    "ingredient_lists = []\n",
    "\n",
    "for label in label_list:\n",
    "    lists = ingredients_in_label[label]\n",
    "    for ingredient in lists:\n",
    "        feature = (label, ingredient[\"subtype\"], ingredient[\"ingredient\"])\n",
    "        ingredient_lists.append(feature)\n",
    "            \n",
    "ingredients_df = pd.DataFrame(ingredient_lists, columns=[\"label\", \"subtype\", \"ingredient\"])"
   ]
  },
  {
   "cell_type": "code",
   "execution_count": null,
   "id": "f875a955",
   "metadata": {},
   "outputs": [],
   "source": [
    "ingredients_df.head"
   ]
  },
  {
   "cell_type": "code",
   "execution_count": null,
   "id": "34e6e977",
   "metadata": {},
   "outputs": [],
   "source": [
    "# 총 ingredient 갯수\n",
    "ingredients_df.count()"
   ]
  },
  {
   "cell_type": "code",
   "execution_count": null,
   "id": "3803fb20",
   "metadata": {},
   "outputs": [],
   "source": [
    "ingredients_df.value_counts()"
   ]
  },
  {
   "cell_type": "code",
   "execution_count": null,
   "id": "197e8625",
   "metadata": {
    "scrolled": true
   },
   "outputs": [],
   "source": [
    "# 클래스 별 주 재료 subtype\n",
    "for label in label_list:\n",
    "    print(f\"{label}(total data : {label_counts[label]} / total ingredient : {len(ingredients_in_label[label])})\")\n",
    "    print(ingredients_df[ingredients_df['label']==label].value_counts())\n",
    "    print('-'*70)"
   ]
  },
  {
   "cell_type": "code",
   "execution_count": null,
   "id": "64de8dd7",
   "metadata": {},
   "outputs": [],
   "source": [
    "import seaborn as sns\n",
    "import numpy as np"
   ]
  },
  {
   "cell_type": "code",
   "execution_count": null,
   "id": "6e46300f",
   "metadata": {},
   "outputs": [],
   "source": [
    "sorted_labels = {k: v for k, v in sorted(label_counts.items(), key=lambda item: item[1], reverse=True)}\n",
    "x = list(sorted_labels.keys())[:5] + list(sorted_labels.keys())[-5:]\n",
    "y = list(sorted_labels.values())[:5] + list(sorted_labels.values())[-5:]\n",
    "ax = sns.barplot(x=x, y=y)\n",
    "ax.set_xticklabels(ax.get_xticklabels(),rotation = 30)"
   ]
  },
  {
   "cell_type": "code",
   "execution_count": null,
   "id": "652bab26",
   "metadata": {},
   "outputs": [],
   "source": [
    "sorted_ingredients = {k: v for k, v in sorted(ingredient_counts.items(), key=lambda item: item[1], reverse=True)}\n",
    "x = list(sorted_ingredients.keys())\n",
    "y = list(sorted_ingredients.values())\n",
    "ax = sns.barplot(x=x, y=y)\n",
    "ax.set_xticklabels(ax.get_xticklabels(),rotation = 90)"
   ]
  },
  {
   "cell_type": "code",
   "execution_count": null,
   "id": "8dc0ddb0",
   "metadata": {},
   "outputs": [],
   "source": [
    "x = list(range(len(num_counts)))\n",
    "y = num_counts\n",
    "ax = sns.barplot(x=x, y=y)"
   ]
  }
 ],
 "metadata": {
  "kernelspec": {
   "display_name": "Python 3 (ipykernel)",
   "language": "python",
   "name": "python3"
  },
  "language_info": {
   "codemirror_mode": {
    "name": "ipython",
    "version": 3
   },
   "file_extension": ".py",
   "mimetype": "text/x-python",
   "name": "python",
   "nbconvert_exporter": "python",
   "pygments_lexer": "ipython3",
   "version": "3.10.2"
  }
 },
 "nbformat": 4,
 "nbformat_minor": 5
}
