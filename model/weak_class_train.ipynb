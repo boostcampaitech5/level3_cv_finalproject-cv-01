{
 "cells": [
  {
   "cell_type": "code",
   "execution_count": null,
   "metadata": {},
   "outputs": [],
   "source": [
    "import os\n",
    "import cv2\n",
    "import json\n",
    "import torch\n",
    "import numpy as np\n",
    "import albumentations as A\n",
    "import torch.nn.functional as F\n",
    "import torch.optim as optim\n",
    "\n",
    "from utils import set_seed, custom_combine_collate_fn\n",
    "from torch.utils.data import DataLoader\n",
    "from torch.optim.lr_scheduler import CosineAnnealingLR\n",
    "\n",
    "from dataset import *\n",
    "from loss import *"
   ]
  },
  {
   "cell_type": "code",
   "execution_count": null,
   "metadata": {},
   "outputs": [],
   "source": [
    "torch.cuda.empty_cache()\n",
    "set_seed(31)\n",
    "epochs = 50"
   ]
  },
  {
   "cell_type": "code",
   "execution_count": null,
   "metadata": {},
   "outputs": [],
   "source": [
    "model = torch.load(\n",
    "    \"/opt/ml/level3_cv_finalproject-cv-01/model/save/Tresnet_m_ml_decoder_recipy_latest.pth\"\n",
    ")\n",
    "\n",
    "criterion = AsymmetricLoss(\n",
    "    gamma_neg=4,\n",
    "    gamma_pos=0,\n",
    "    clip=0.05,\n",
    "    eps=1e-8,\n",
    "    disable_torch_grad_focal_loss=True,\n",
    ")\n",
    "optimizer = optim.AdamW(params=model.parameters(), lr=1e-4, weight_decay=1e-5)\n",
    "scheduler = CosineAnnealingLR(optimizer, T_max=epochs, eta_min=1e-5)\n"
   ]
  },
  {
   "cell_type": "code",
   "execution_count": null,
   "metadata": {},
   "outputs": [],
   "source": [
    "\n",
    "tf = A.Compose(\n",
    "    [\n",
    "        A.Resize(224, 224),\n",
    "        A.Normalize(),\n",
    "    ]\n",
    ")\n",
    "dataset = CustomCombineWeekClassDataset(\n",
    "    \"/opt/ml/level3_cv_finalproject-cv-01/model/data/test_data\",\n",
    "    \"/opt/ml/level3_cv_finalproject-cv-01/model/data/test_data_json\",\n",
    "    tf,\n",
    ")\n",
    "train_loader = DataLoader(\n",
    "        dataset=dataset,\n",
    "        batch_size=256,\n",
    "        shuffle=True,\n",
    "        num_workers=8,\n",
    "        collate_fn=custom_combine_collate_fn,\n",
    "        drop_last=False,\n",
    "    )"
   ]
  },
  {
   "cell_type": "code",
   "execution_count": null,
   "metadata": {},
   "outputs": [],
   "source": [
    "scaler = torch.cuda.amp.GradScaler(enabled=True)\n",
    "model.cuda()\n",
    "for epoch in range(epochs):\n",
    "    model.train()\n",
    "    for images, labels in train_loader:\n",
    "        images, labels = (\n",
    "            torch.tensor(images).cuda(),\n",
    "            torch.tensor(labels).cuda(),\n",
    "        )\n",
    "        optimizer.zero_grad()\n",
    "\n",
    "        with torch.cuda.amp.autocast(enabled=True):\n",
    "            outputs = model(images)\n",
    "            loss = criterion(outputs, labels)\n",
    "        scaler.scale(loss).backward()\n",
    "        scaler.step(optimizer)\n",
    "        scaler.update()\n",
    "        print(f\"{epoch}Epochs\\tLoss: {round(loss.item(),4)}, \")\n",
    "output_path = os.path.join(\n",
    "    \"/opt/ml/level3_cv_finalproject-cv-01/model/save\",\n",
    "    \"Tresnet_m_ml_decoder_recipy_latest.pth\"\n",
    ")\n",
    "torch.save(model, output_path)"
   ]
  }
 ],
 "metadata": {
  "language_info": {
   "name": "python"
  },
  "orig_nbformat": 4
 },
 "nbformat": 4,
 "nbformat_minor": 2
}
